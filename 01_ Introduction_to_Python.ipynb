{
 "cells": [
  {
   "cell_type": "markdown",
   "metadata": {},
   "source": [
    "**Coursebook: Introduction to Python**\n",
    "- Part 1 of Python Beginner DBS Indonesia Training\n",
    "- Course Length: 6 hours\n",
    "- Last Updated: January 2023\n",
    "\n",
    "___\n",
    "- Author: [Samuel Chan](https://github.com/onlyphantom)\n",
    "- Developed by [Algoritma](https://algorit.ma)'s product division and instructors team"
   ]
  },
  {
   "cell_type": "markdown",
   "metadata": {},
   "source": [
    "# Background"
   ]
  },
  {
   "cell_type": "markdown",
   "metadata": {},
   "source": [
    "## Top-Down Approach \n",
    "\n",
    "The coursebook is part of the **Data Analytics Specialization** offered by [Algoritma](https://algorit.ma). It takes a more accessible approach compared to Algoritma's core educational products, by getting participants to overcome the \"how\" barrier first, rather than a detailed breakdown of the \"why\". \n",
    "\n",
    "This translates to an overall easier learning curve, one where the reader is prompted to write short snippets of code in frequent intervals, before being offered an explanation on the underlying theoretical frameworks. Instead of mastering the syntactic design of the Python programming language, then moving into data structures, and then the `pandas` library, and then the mathematical details in an imputation algorithm, and its code implementation; we would do the opposite: Implement the imputation, then a succinct explanation of why it works and applicational considerations (what to look out for, what are assumptions it made, when _not_ to use it etc).\n",
    "\n",
    "For the most part, experience in Python programming is good to have but not required. Familiarity with data manipulation and data structures in a different programming language a welcome addition but again, not required."
   ]
  },
  {
   "cell_type": "markdown",
   "metadata": {},
   "source": [
    "## Training Objectives\n",
    "\n",
    "This coursebook is intended for participants new to the world of data analysis and / or programming. No prior programming knowledge is assumed. \n",
    "\n",
    "The coursebook focuses on:\n",
    "- Introduction to Python\n",
    "- Introduction to Jupyter Notebook\n",
    "- Introduction to the `pandas` library. \n",
    "- Introduction to `DataFrame`  \n",
    "- Data Types\n",
    "- Exploratory Data Analysis\n",
    "- Indexing and Subsetting\n",
    "\n",
    "The final part of this course is a Graded Asssignment, where you are expected to apply all that you've learned on a new dataset, and attempt the given questions."
   ]
  },
  {
   "cell_type": "markdown",
   "metadata": {},
   "source": [
    "# Python for Data Analysts\n",
    "\n",
    "Since you'll spend a great deal of your time working with data in Jupyter Notebook, I think it's important to get yourself familiar with notebok documents (or \"notebooks\").\n",
    "\n",
    "> Notebook documents are documents produced by *Jupyter Notebook*, which contain both computer code (e.g. python) and rich text elements (paragraph, equations, figures, links, etc…). Notebook documents are both human-readable documents containing the analysis description and the results (figures, tables, etc..) as well as executable documents which can be run to perform data analysis.\n",
    "\n",
    "Jupyter Notebook provides an easy-to-use, interactive data science environment that doesn't only work as an IDE, but also as a presentation tool (as it can be exported to other document formats, such as .HTML, .PDF, etc).\n",
    "\n",
    "If you’re a seasoned programmer, the **Ctrl + Shift + P** combination will bring up a shortcut reference guide that helps you use Jupyter Notebook more effectively."
   ]
  },
  {
   "cell_type": "markdown",
   "metadata": {},
   "source": [
    "## Command Mode and Edit Mode\n",
    "\n",
    "Mode cell dalam notebook:\n",
    "1. Command mode (cell berwarna BIRU)\n",
    "    - B: menambahkan cell baru di Bawah (Below)\n",
    "    - A: menambahkan cell baru di Atas (Above)\n",
    "    - DD: Delete cell\n",
    "    - C: Copy cell\n",
    "    - V: Paste cell\n",
    "    - Y: Mengubah ke code cell\n",
    "    - M: Mengubah ke markdown cell\n",
    "    - Enter: Mengubah command mode menjadi edit mode\n",
    "\n",
    "\n",
    "2. Edit mode (cell berwarna HIJAU)\n",
    "    - Ctrl + Enter: eksekusi satu cell\n",
    "    - Esc: Mengubah edit mode menjadi command mode"
   ]
  },
  {
   "cell_type": "markdown",
   "metadata": {},
   "source": [
    "## Variables and Keywords\n",
    "\n",
    "Later on, we will often use assignment statements (`=`) to creates new variables. A variable is a name that refers to a value."
   ]
  },
  {
   "cell_type": "code",
   "execution_count": 1,
   "metadata": {},
   "outputs": [
    {
     "name": "stdout",
     "output_type": "stream",
     "text": [
      "programming\n"
     ]
    }
   ],
   "source": [
    "activity = 'programming'\n",
    "\n",
    "print(activity)"
   ]
  },
  {
   "cell_type": "markdown",
   "metadata": {},
   "source": [
    "Thing to note here, like other programming languages, Python is **case-sensitive**, so `activity` and `Activity` are  different symbols and will point to different variables."
   ]
  },
  {
   "cell_type": "code",
   "execution_count": 2,
   "metadata": {},
   "outputs": [
    {
     "data": {
      "text/plain": [
       "False"
      ]
     },
     "execution_count": 2,
     "metadata": {},
     "output_type": "execute_result"
    }
   ],
   "source": [
    "'activity' == 'Activity'"
   ]
  },
  {
   "cell_type": "code",
   "execution_count": null,
   "metadata": {
    "scrolled": true
   },
   "outputs": [
    {
     "data": {
      "text/plain": [
       "True"
      ]
     },
     "execution_count": 3,
     "metadata": {},
     "output_type": "execute_result"
    }
   ],
   "source": [
    "activity == activity"
   ]
  },
  {
   "cell_type": "markdown",
   "metadata": {},
   "source": [
    "Our previous code returned `True` as the output. Try to create a new variable and use `True` as the variable name, then see what happen.\n",
    "\n",
    "> SyntaxError: can't assign to keyword\n",
    "\n",
    "We can use `#` to create command in `code` mode"
   ]
  },
  {
   "cell_type": "markdown",
   "metadata": {},
   "source": [
    "**What you need to know**:\n",
    "- Python, as with `R`, `Swift`, `C`, and many other languages, are case-sensitive. `Sales` and `sales` refer to different objects.  \n",
    "- You cannot use any Python keywords as identifers. \n",
    "- When naming your variables, start with a letter and use underscore (`_`) to join multiple words.\n",
    "    - Wrong: `2019`, `2019sales`, `sales-2019`, `sales.2019`\n",
    "    - Correct: `sales_2019`, `profit_after_tax`\n",
    "- You cannot named object by `keyword` stored in python"
   ]
  },
  {
   "cell_type": "code",
   "execution_count": 4,
   "metadata": {
    "scrolled": true
   },
   "outputs": [
    {
     "data": {
      "text/plain": [
       "['False',\n",
       " 'None',\n",
       " 'True',\n",
       " 'and',\n",
       " 'as',\n",
       " 'assert',\n",
       " 'async',\n",
       " 'await',\n",
       " 'break',\n",
       " 'class',\n",
       " 'continue',\n",
       " 'def',\n",
       " 'del',\n",
       " 'elif',\n",
       " 'else',\n",
       " 'except',\n",
       " 'finally',\n",
       " 'for',\n",
       " 'from',\n",
       " 'global',\n",
       " 'if',\n",
       " 'import',\n",
       " 'in',\n",
       " 'is',\n",
       " 'lambda',\n",
       " 'nonlocal',\n",
       " 'not',\n",
       " 'or',\n",
       " 'pass',\n",
       " 'raise',\n",
       " 'return',\n",
       " 'try',\n",
       " 'while',\n",
       " 'with',\n",
       " 'yield']"
      ]
     },
     "execution_count": 4,
     "metadata": {},
     "output_type": "execute_result"
    }
   ],
   "source": [
    "# Python Keyword List\n",
    "import keyword\n",
    "keyword.kwlist"
   ]
  },
  {
   "cell_type": "code",
   "execution_count": 5,
   "metadata": {},
   "outputs": [
    {
     "name": "stdout",
     "output_type": "stream",
     "text": [
      "1\n"
     ]
    }
   ],
   "source": [
    "# Try to run code below\n",
    "# True = 1 \n",
    "\n",
    "True_answer = 1 # can use this\n",
    "print(True_answer)"
   ]
  },
  {
   "cell_type": "markdown",
   "metadata": {},
   "source": [
    "## Types of variables"
   ]
  },
  {
   "cell_type": "markdown",
   "metadata": {},
   "source": [
    "### String\n",
    "In Python, `String` data type represents text. It is comprised of a set of characters that can also contain spaces and numbers. For example, the word \"hamburger\" and the phrase \"I ate 3 hamburgers\" are both strings. There are several ways to create string object in Python:\n",
    "- using single quote -> `'Hello World!'`\n",
    "- using double-quote -> `\"I'm a programmer\"`\n",
    "- using triple quote -> `''' \"I'm smart!\", he said '''`"
   ]
  },
  {
   "cell_type": "markdown",
   "metadata": {},
   "source": [
    "Python's triple quotes comes to the rescue by allowing strings to span multiple lines."
   ]
  },
  {
   "cell_type": "code",
   "execution_count": 6,
   "metadata": {},
   "outputs": [
    {
     "name": "stdout",
     "output_type": "stream",
     "text": [
      "this is a long string that is made up of several lines\n",
      "you can use this as an message template\n",
      "try it!\n",
      "\n"
     ]
    }
   ],
   "source": [
    "para_str = '''this is a long string that is made up of several lines\n",
    "you can use this as an message template\n",
    "try it!\n",
    "''' \n",
    "print(para_str)"
   ]
  },
  {
   "cell_type": "markdown",
   "metadata": {},
   "source": [
    "### Int and Float\n",
    "`Int` (integer) is used to store numbers without a decimal point, otherwise `float` is a number with decimal point. \n",
    "Example:\n",
    "- `an_int = 1`\n",
    "- `a_float = 1.1`"
   ]
  },
  {
   "cell_type": "code",
   "execution_count": 7,
   "metadata": {},
   "outputs": [],
   "source": [
    "a = 123456\n",
    "b = 3.1415926"
   ]
  },
  {
   "cell_type": "code",
   "execution_count": 8,
   "metadata": {},
   "outputs": [
    {
     "data": {
      "text/plain": [
       "int"
      ]
     },
     "execution_count": 8,
     "metadata": {},
     "output_type": "execute_result"
    }
   ],
   "source": [
    "type(a)"
   ]
  },
  {
   "cell_type": "code",
   "execution_count": 9,
   "metadata": {},
   "outputs": [
    {
     "data": {
      "text/plain": [
       "float"
      ]
     },
     "execution_count": 9,
     "metadata": {},
     "output_type": "execute_result"
    }
   ],
   "source": [
    "type(b)"
   ]
  },
  {
   "cell_type": "markdown",
   "metadata": {},
   "source": [
    "`int` and `float` allow us to manipulate numbers through **matematical operations** such as:\n",
    "- addition `+`\n",
    "- Substraction `-`\n",
    "- Multiplication `*`\n",
    "- Division `/`"
   ]
  },
  {
   "cell_type": "code",
   "execution_count": 10,
   "metadata": {},
   "outputs": [],
   "source": [
    "# code here\n"
   ]
  },
  {
   "cell_type": "markdown",
   "metadata": {},
   "source": [
    "### Compound types\n",
    "Python has several way to create a compound object to store a collection of objects. Most of the time, `list` and `tuple` are used."
   ]
  },
  {
   "cell_type": "code",
   "execution_count": 11,
   "metadata": {},
   "outputs": [
    {
     "name": "stdout",
     "output_type": "stream",
     "text": [
      "['matthew', 'sam', 'fredric']\n"
     ]
    }
   ],
   "source": [
    "# Create a python list\n",
    "customers = ['matthew', 'sam', 'fredric']\n",
    "print(customers)"
   ]
  },
  {
   "cell_type": "code",
   "execution_count": 12,
   "metadata": {},
   "outputs": [
    {
     "name": "stdout",
     "output_type": "stream",
     "text": [
      "True\n",
      "False\n"
     ]
    }
   ],
   "source": [
    "# Check value inside a list\n",
    "print('jane' not in customers)\n",
    "print('rob' in customers)"
   ]
  },
  {
   "cell_type": "code",
   "execution_count": 13,
   "metadata": {},
   "outputs": [
    {
     "data": {
      "text/plain": [
       "3"
      ]
     },
     "execution_count": 13,
     "metadata": {},
     "output_type": "execute_result"
    }
   ],
   "source": [
    "# Check the length of a list\n",
    "len(customers)"
   ]
  },
  {
   "cell_type": "code",
   "execution_count": 14,
   "metadata": {
    "scrolled": true
   },
   "outputs": [
    {
     "name": "stdout",
     "output_type": "stream",
     "text": [
      "['matthew', 'sam', 'fredric', 'betty']\n"
     ]
    }
   ],
   "source": [
    "# Append new data to a list\n",
    "customers.append('betty')\n",
    "print(customers)"
   ]
  },
  {
   "cell_type": "markdown",
   "metadata": {},
   "source": [
    "Other python list method : https://www.w3schools.com/python/python_lists_methods.asp"
   ]
  },
  {
   "cell_type": "code",
   "execution_count": 15,
   "metadata": {},
   "outputs": [
    {
     "data": {
      "text/plain": [
       "['matthew', 'sam', 'fredric', 'betty', 'tom', 'bradley', 'cooper']"
      ]
     },
     "execution_count": 15,
     "metadata": {},
     "output_type": "execute_result"
    }
   ],
   "source": [
    "accounts = ['tom', 'bradley', 'cooper']\n",
    "customers + accounts"
   ]
  },
  {
   "cell_type": "code",
   "execution_count": 16,
   "metadata": {},
   "outputs": [
    {
     "name": "stdout",
     "output_type": "stream",
     "text": [
      "('tom', 'bradley')\n"
     ]
    }
   ],
   "source": [
    "# Create a tuple\n",
    "new_accounts = ('tom', 'bradley')\n",
    "print(new_accounts)"
   ]
  },
  {
   "cell_type": "code",
   "execution_count": 17,
   "metadata": {
    "scrolled": true
   },
   "outputs": [
    {
     "name": "stdout",
     "output_type": "stream",
     "text": [
      "matthew\n",
      "bradley\n"
     ]
    }
   ],
   "source": [
    "# Accessing value in list and tuple\n",
    "\n",
    "# first data of customers list\n",
    "print(customers[0])\n",
    "\n",
    "# second data of new_accounts tuple\n",
    "print(new_accounts[1])"
   ]
  },
  {
   "cell_type": "markdown",
   "metadata": {},
   "source": [
    "#### `list` vs `tuple`\n",
    "1. **Mutability** : `list` is mutable. We can add, drop, or mutate values of list. Meanwhile, `tuple` is not.\n",
    "2. **Methods** : `list` has several built-in method (append, remode, etc) due to its mutability. `tuple` does not have many built-in method.\n",
    "\n",
    "note: We can use `tuple` when we need to store unchangeable data. But `list` is the better option for performing operations, such as insertion and deletion."
   ]
  },
  {
   "cell_type": "markdown",
   "metadata": {},
   "source": [
    "### Daily Quizzes"
   ]
  },
  {
   "cell_type": "markdown",
   "metadata": {},
   "source": [
    "Difference between List and Tuple (pick all that applies)\n",
    "\n",
    "- [ ] A. The number of items they can each contain\n",
    "- [ ] B. Immutability (the fact that it can be changed or manipulated)\n",
    "- [ ] C. List has additional methods like len() but Tuple does not"
   ]
  },
  {
   "cell_type": "markdown",
   "metadata": {},
   "source": [
    "# Introduction to pandas Library\n",
    "\n",
    "## Working with DataFrame"
   ]
  },
  {
   "cell_type": "markdown",
   "metadata": {},
   "source": [
    "We will start off by learning about a powerful Python data analysis library by the name of `pandas`. Its official documentation introduces itself as the \"fundamental high-level building block for doing practical, real world data analysis in Python\", and strive to do so by implementing many of the key data manipulation functionalities in R. This makes `pandas` a core member of many Python-based scientific computing environments.\n",
    "\n",
    "From its [official documentation](https://pandas.pydata.org):\n",
    "\n",
    "> Python has long been great for data munging and preparation, but less so for data analysis and modeling. pandas helps fill this gap, enabling you to carry out your entire data analysis workflow in Python without having to switch to a more domain specific language like R.\n",
    "\n",
    "To use `pandas`, we will use Python's `import` function. Once imported, all `pandas` function can be accessed using the *pandas.function_name* notation."
   ]
  },
  {
   "cell_type": "code",
   "execution_count": 18,
   "metadata": {},
   "outputs": [
    {
     "name": "stdout",
     "output_type": "stream",
     "text": [
      "1.5.3\n"
     ]
    }
   ],
   "source": [
    "import pandas as pd\n",
    "print(pd.__version__)"
   ]
  },
  {
   "cell_type": "code",
   "execution_count": 19,
   "metadata": {},
   "outputs": [
    {
     "data": {
      "text/html": [
       "<div>\n",
       "<style scoped>\n",
       "    .dataframe tbody tr th:only-of-type {\n",
       "        vertical-align: middle;\n",
       "    }\n",
       "\n",
       "    .dataframe tbody tr th {\n",
       "        vertical-align: top;\n",
       "    }\n",
       "\n",
       "    .dataframe thead th {\n",
       "        text-align: right;\n",
       "    }\n",
       "</style>\n",
       "<table border=\"1\" class=\"dataframe\">\n",
       "  <thead>\n",
       "    <tr style=\"text-align: right;\">\n",
       "      <th></th>\n",
       "      <th>year</th>\n",
       "      <th>issue_d</th>\n",
       "      <th>final_d</th>\n",
       "      <th>emp_length_int</th>\n",
       "      <th>home_ownership</th>\n",
       "      <th>home_ownership_cat</th>\n",
       "      <th>income_category</th>\n",
       "      <th>annual_inc</th>\n",
       "      <th>income_cat</th>\n",
       "      <th>loan_amount</th>\n",
       "      <th>...</th>\n",
       "      <th>loan_condition_cat</th>\n",
       "      <th>interest_rate</th>\n",
       "      <th>grade</th>\n",
       "      <th>grade_cat</th>\n",
       "      <th>dti</th>\n",
       "      <th>total_pymnt</th>\n",
       "      <th>total_rec_prncp</th>\n",
       "      <th>recoveries</th>\n",
       "      <th>installment</th>\n",
       "      <th>region</th>\n",
       "    </tr>\n",
       "    <tr>\n",
       "      <th>id</th>\n",
       "      <th></th>\n",
       "      <th></th>\n",
       "      <th></th>\n",
       "      <th></th>\n",
       "      <th></th>\n",
       "      <th></th>\n",
       "      <th></th>\n",
       "      <th></th>\n",
       "      <th></th>\n",
       "      <th></th>\n",
       "      <th></th>\n",
       "      <th></th>\n",
       "      <th></th>\n",
       "      <th></th>\n",
       "      <th></th>\n",
       "      <th></th>\n",
       "      <th></th>\n",
       "      <th></th>\n",
       "      <th></th>\n",
       "      <th></th>\n",
       "      <th></th>\n",
       "    </tr>\n",
       "  </thead>\n",
       "  <tbody>\n",
       "    <tr>\n",
       "      <th>1077501</th>\n",
       "      <td>2011</td>\n",
       "      <td>01/12/2011</td>\n",
       "      <td>1012015</td>\n",
       "      <td>10.00</td>\n",
       "      <td>RENT</td>\n",
       "      <td>1</td>\n",
       "      <td>Low</td>\n",
       "      <td>24000</td>\n",
       "      <td>1</td>\n",
       "      <td>5000</td>\n",
       "      <td>...</td>\n",
       "      <td>0</td>\n",
       "      <td>10.65</td>\n",
       "      <td>B</td>\n",
       "      <td>2</td>\n",
       "      <td>27.65</td>\n",
       "      <td>5861.071414</td>\n",
       "      <td>5000.00</td>\n",
       "      <td>0.00</td>\n",
       "      <td>162.87</td>\n",
       "      <td>munster</td>\n",
       "    </tr>\n",
       "    <tr>\n",
       "      <th>1077430</th>\n",
       "      <td>2011</td>\n",
       "      <td>01/12/2011</td>\n",
       "      <td>1042013</td>\n",
       "      <td>0.50</td>\n",
       "      <td>RENT</td>\n",
       "      <td>1</td>\n",
       "      <td>Low</td>\n",
       "      <td>30000</td>\n",
       "      <td>1</td>\n",
       "      <td>2500</td>\n",
       "      <td>...</td>\n",
       "      <td>1</td>\n",
       "      <td>15.27</td>\n",
       "      <td>C</td>\n",
       "      <td>3</td>\n",
       "      <td>1.00</td>\n",
       "      <td>1008.710000</td>\n",
       "      <td>456.46</td>\n",
       "      <td>117.08</td>\n",
       "      <td>59.83</td>\n",
       "      <td>leinster</td>\n",
       "    </tr>\n",
       "    <tr>\n",
       "      <th>1077175</th>\n",
       "      <td>2011</td>\n",
       "      <td>01/12/2011</td>\n",
       "      <td>1062014</td>\n",
       "      <td>10.00</td>\n",
       "      <td>RENT</td>\n",
       "      <td>1</td>\n",
       "      <td>Low</td>\n",
       "      <td>12252</td>\n",
       "      <td>1</td>\n",
       "      <td>2400</td>\n",
       "      <td>...</td>\n",
       "      <td>0</td>\n",
       "      <td>15.96</td>\n",
       "      <td>C</td>\n",
       "      <td>3</td>\n",
       "      <td>8.72</td>\n",
       "      <td>3003.653644</td>\n",
       "      <td>2400.00</td>\n",
       "      <td>0.00</td>\n",
       "      <td>84.33</td>\n",
       "      <td>cannught</td>\n",
       "    </tr>\n",
       "    <tr>\n",
       "      <th>1076863</th>\n",
       "      <td>2011</td>\n",
       "      <td>01/12/2011</td>\n",
       "      <td>1012015</td>\n",
       "      <td>10.00</td>\n",
       "      <td>RENT</td>\n",
       "      <td>1</td>\n",
       "      <td>Low</td>\n",
       "      <td>49200</td>\n",
       "      <td>1</td>\n",
       "      <td>10000</td>\n",
       "      <td>...</td>\n",
       "      <td>0</td>\n",
       "      <td>13.49</td>\n",
       "      <td>C</td>\n",
       "      <td>3</td>\n",
       "      <td>20.00</td>\n",
       "      <td>12226.302210</td>\n",
       "      <td>10000.00</td>\n",
       "      <td>0.00</td>\n",
       "      <td>339.31</td>\n",
       "      <td>ulster</td>\n",
       "    </tr>\n",
       "    <tr>\n",
       "      <th>1075358</th>\n",
       "      <td>2011</td>\n",
       "      <td>01/12/2011</td>\n",
       "      <td>1012016</td>\n",
       "      <td>1.00</td>\n",
       "      <td>RENT</td>\n",
       "      <td>1</td>\n",
       "      <td>Low</td>\n",
       "      <td>80000</td>\n",
       "      <td>1</td>\n",
       "      <td>3000</td>\n",
       "      <td>...</td>\n",
       "      <td>0</td>\n",
       "      <td>12.69</td>\n",
       "      <td>B</td>\n",
       "      <td>2</td>\n",
       "      <td>17.94</td>\n",
       "      <td>3242.170000</td>\n",
       "      <td>2233.10</td>\n",
       "      <td>0.00</td>\n",
       "      <td>67.79</td>\n",
       "      <td>ulster</td>\n",
       "    </tr>\n",
       "    <tr>\n",
       "      <th>...</th>\n",
       "      <td>...</td>\n",
       "      <td>...</td>\n",
       "      <td>...</td>\n",
       "      <td>...</td>\n",
       "      <td>...</td>\n",
       "      <td>...</td>\n",
       "      <td>...</td>\n",
       "      <td>...</td>\n",
       "      <td>...</td>\n",
       "      <td>...</td>\n",
       "      <td>...</td>\n",
       "      <td>...</td>\n",
       "      <td>...</td>\n",
       "      <td>...</td>\n",
       "      <td>...</td>\n",
       "      <td>...</td>\n",
       "      <td>...</td>\n",
       "      <td>...</td>\n",
       "      <td>...</td>\n",
       "      <td>...</td>\n",
       "      <td>...</td>\n",
       "    </tr>\n",
       "    <tr>\n",
       "      <th>51466752</th>\n",
       "      <td>2015</td>\n",
       "      <td>01/06/2015</td>\n",
       "      <td>1012016</td>\n",
       "      <td>10.00</td>\n",
       "      <td>RENT</td>\n",
       "      <td>1</td>\n",
       "      <td>Medium</td>\n",
       "      <td>105000</td>\n",
       "      <td>2</td>\n",
       "      <td>7000</td>\n",
       "      <td>...</td>\n",
       "      <td>0</td>\n",
       "      <td>12.69</td>\n",
       "      <td>C</td>\n",
       "      <td>3</td>\n",
       "      <td>18.71</td>\n",
       "      <td>1638.800000</td>\n",
       "      <td>1161.91</td>\n",
       "      <td>0.00</td>\n",
       "      <td>234.82</td>\n",
       "      <td>ulster</td>\n",
       "    </tr>\n",
       "    <tr>\n",
       "      <th>51476872</th>\n",
       "      <td>2015</td>\n",
       "      <td>01/06/2015</td>\n",
       "      <td>1012016</td>\n",
       "      <td>6.05</td>\n",
       "      <td>MORTGAGE</td>\n",
       "      <td>3</td>\n",
       "      <td>Low</td>\n",
       "      <td>24000</td>\n",
       "      <td>1</td>\n",
       "      <td>5725</td>\n",
       "      <td>...</td>\n",
       "      <td>0</td>\n",
       "      <td>16.99</td>\n",
       "      <td>D</td>\n",
       "      <td>4</td>\n",
       "      <td>31.80</td>\n",
       "      <td>1423.230000</td>\n",
       "      <td>898.69</td>\n",
       "      <td>0.00</td>\n",
       "      <td>204.09</td>\n",
       "      <td>cannught</td>\n",
       "    </tr>\n",
       "    <tr>\n",
       "      <th>51416633</th>\n",
       "      <td>2015</td>\n",
       "      <td>01/06/2015</td>\n",
       "      <td>1012016</td>\n",
       "      <td>7.00</td>\n",
       "      <td>RENT</td>\n",
       "      <td>1</td>\n",
       "      <td>Low</td>\n",
       "      <td>38400</td>\n",
       "      <td>1</td>\n",
       "      <td>5000</td>\n",
       "      <td>...</td>\n",
       "      <td>0</td>\n",
       "      <td>8.18</td>\n",
       "      <td>B</td>\n",
       "      <td>2</td>\n",
       "      <td>4.47</td>\n",
       "      <td>1095.160000</td>\n",
       "      <td>878.93</td>\n",
       "      <td>0.00</td>\n",
       "      <td>157.10</td>\n",
       "      <td>ulster</td>\n",
       "    </tr>\n",
       "    <tr>\n",
       "      <th>50496839</th>\n",
       "      <td>2015</td>\n",
       "      <td>01/06/2015</td>\n",
       "      <td>1012016</td>\n",
       "      <td>10.00</td>\n",
       "      <td>MORTGAGE</td>\n",
       "      <td>3</td>\n",
       "      <td>Medium</td>\n",
       "      <td>175000</td>\n",
       "      <td>2</td>\n",
       "      <td>21300</td>\n",
       "      <td>...</td>\n",
       "      <td>0</td>\n",
       "      <td>12.29</td>\n",
       "      <td>C</td>\n",
       "      <td>3</td>\n",
       "      <td>8.10</td>\n",
       "      <td>4342.500000</td>\n",
       "      <td>3030.30</td>\n",
       "      <td>0.00</td>\n",
       "      <td>710.42</td>\n",
       "      <td>ulster</td>\n",
       "    </tr>\n",
       "    <tr>\n",
       "      <th>38468626</th>\n",
       "      <td>2015</td>\n",
       "      <td>01/06/2015</td>\n",
       "      <td>1012016</td>\n",
       "      <td>8.00</td>\n",
       "      <td>RENT</td>\n",
       "      <td>1</td>\n",
       "      <td>Low</td>\n",
       "      <td>50000</td>\n",
       "      <td>1</td>\n",
       "      <td>14400</td>\n",
       "      <td>...</td>\n",
       "      <td>0</td>\n",
       "      <td>13.33</td>\n",
       "      <td>C</td>\n",
       "      <td>3</td>\n",
       "      <td>2.16</td>\n",
       "      <td>2299.970000</td>\n",
       "      <td>1231.34</td>\n",
       "      <td>0.00</td>\n",
       "      <td>330.09</td>\n",
       "      <td>Northern-Irl</td>\n",
       "    </tr>\n",
       "  </tbody>\n",
       "</table>\n",
       "<p>722423 rows × 29 columns</p>\n",
       "</div>"
      ],
      "text/plain": [
       "          year     issue_d  final_d  emp_length_int home_ownership  \\\n",
       "id                                                                   \n",
       "1077501   2011  01/12/2011  1012015           10.00           RENT   \n",
       "1077430   2011  01/12/2011  1042013            0.50           RENT   \n",
       "1077175   2011  01/12/2011  1062014           10.00           RENT   \n",
       "1076863   2011  01/12/2011  1012015           10.00           RENT   \n",
       "1075358   2011  01/12/2011  1012016            1.00           RENT   \n",
       "...        ...         ...      ...             ...            ...   \n",
       "51466752  2015  01/06/2015  1012016           10.00           RENT   \n",
       "51476872  2015  01/06/2015  1012016            6.05       MORTGAGE   \n",
       "51416633  2015  01/06/2015  1012016            7.00           RENT   \n",
       "50496839  2015  01/06/2015  1012016           10.00       MORTGAGE   \n",
       "38468626  2015  01/06/2015  1012016            8.00           RENT   \n",
       "\n",
       "          home_ownership_cat income_category  annual_inc  income_cat  \\\n",
       "id                                                                     \n",
       "1077501                    1             Low       24000           1   \n",
       "1077430                    1             Low       30000           1   \n",
       "1077175                    1             Low       12252           1   \n",
       "1076863                    1             Low       49200           1   \n",
       "1075358                    1             Low       80000           1   \n",
       "...                      ...             ...         ...         ...   \n",
       "51466752                   1          Medium      105000           2   \n",
       "51476872                   3             Low       24000           1   \n",
       "51416633                   1             Low       38400           1   \n",
       "50496839                   3          Medium      175000           2   \n",
       "38468626                   1             Low       50000           1   \n",
       "\n",
       "          loan_amount  ... loan_condition_cat  interest_rate grade  grade_cat  \\\n",
       "id                     ...                                                      \n",
       "1077501          5000  ...                  0          10.65     B          2   \n",
       "1077430          2500  ...                  1          15.27     C          3   \n",
       "1077175          2400  ...                  0          15.96     C          3   \n",
       "1076863         10000  ...                  0          13.49     C          3   \n",
       "1075358          3000  ...                  0          12.69     B          2   \n",
       "...               ...  ...                ...            ...   ...        ...   \n",
       "51466752         7000  ...                  0          12.69     C          3   \n",
       "51476872         5725  ...                  0          16.99     D          4   \n",
       "51416633         5000  ...                  0           8.18     B          2   \n",
       "50496839        21300  ...                  0          12.29     C          3   \n",
       "38468626        14400  ...                  0          13.33     C          3   \n",
       "\n",
       "            dti   total_pymnt total_rec_prncp  recoveries installment  \\\n",
       "id                                                                      \n",
       "1077501   27.65   5861.071414         5000.00        0.00      162.87   \n",
       "1077430    1.00   1008.710000          456.46      117.08       59.83   \n",
       "1077175    8.72   3003.653644         2400.00        0.00       84.33   \n",
       "1076863   20.00  12226.302210        10000.00        0.00      339.31   \n",
       "1075358   17.94   3242.170000         2233.10        0.00       67.79   \n",
       "...         ...           ...             ...         ...         ...   \n",
       "51466752  18.71   1638.800000         1161.91        0.00      234.82   \n",
       "51476872  31.80   1423.230000          898.69        0.00      204.09   \n",
       "51416633   4.47   1095.160000          878.93        0.00      157.10   \n",
       "50496839   8.10   4342.500000         3030.30        0.00      710.42   \n",
       "38468626   2.16   2299.970000         1231.34        0.00      330.09   \n",
       "\n",
       "                region  \n",
       "id                      \n",
       "1077501        munster  \n",
       "1077430       leinster  \n",
       "1077175       cannught  \n",
       "1076863         ulster  \n",
       "1075358         ulster  \n",
       "...                ...  \n",
       "51466752        ulster  \n",
       "51476872      cannught  \n",
       "51416633        ulster  \n",
       "50496839        ulster  \n",
       "38468626  Northern-Irl  \n",
       "\n",
       "[722423 rows x 29 columns]"
      ]
     },
     "execution_count": 19,
     "metadata": {},
     "output_type": "execute_result"
    }
   ],
   "source": [
    "pd.read_csv(\"data_input/data.csv\", index_col=0)"
   ]
  },
  {
   "cell_type": "code",
   "execution_count": 20,
   "metadata": {
    "scrolled": true
   },
   "outputs": [
    {
     "data": {
      "text/html": [
       "<div>\n",
       "<style scoped>\n",
       "    .dataframe tbody tr th:only-of-type {\n",
       "        vertical-align: middle;\n",
       "    }\n",
       "\n",
       "    .dataframe tbody tr th {\n",
       "        vertical-align: top;\n",
       "    }\n",
       "\n",
       "    .dataframe thead th {\n",
       "        text-align: right;\n",
       "    }\n",
       "</style>\n",
       "<table border=\"1\" class=\"dataframe\">\n",
       "  <thead>\n",
       "    <tr style=\"text-align: right;\">\n",
       "      <th></th>\n",
       "      <th>id</th>\n",
       "      <th>year</th>\n",
       "      <th>issue_d</th>\n",
       "      <th>final_d</th>\n",
       "      <th>emp_length_int</th>\n",
       "      <th>home_ownership</th>\n",
       "      <th>home_ownership_cat</th>\n",
       "      <th>income_category</th>\n",
       "      <th>annual_inc</th>\n",
       "      <th>income_cat</th>\n",
       "      <th>...</th>\n",
       "      <th>loan_condition_cat</th>\n",
       "      <th>interest_rate</th>\n",
       "      <th>grade</th>\n",
       "      <th>grade_cat</th>\n",
       "      <th>dti</th>\n",
       "      <th>total_pymnt</th>\n",
       "      <th>total_rec_prncp</th>\n",
       "      <th>recoveries</th>\n",
       "      <th>installment</th>\n",
       "      <th>region</th>\n",
       "    </tr>\n",
       "  </thead>\n",
       "  <tbody>\n",
       "    <tr>\n",
       "      <th>0</th>\n",
       "      <td>1077501</td>\n",
       "      <td>2011</td>\n",
       "      <td>01/12/2011</td>\n",
       "      <td>1012015</td>\n",
       "      <td>10.0</td>\n",
       "      <td>RENT</td>\n",
       "      <td>1</td>\n",
       "      <td>Low</td>\n",
       "      <td>24000</td>\n",
       "      <td>1</td>\n",
       "      <td>...</td>\n",
       "      <td>0</td>\n",
       "      <td>10.65</td>\n",
       "      <td>B</td>\n",
       "      <td>2</td>\n",
       "      <td>27.65</td>\n",
       "      <td>5861.071414</td>\n",
       "      <td>5000.00</td>\n",
       "      <td>0.00</td>\n",
       "      <td>162.87</td>\n",
       "      <td>munster</td>\n",
       "    </tr>\n",
       "    <tr>\n",
       "      <th>1</th>\n",
       "      <td>1077430</td>\n",
       "      <td>2011</td>\n",
       "      <td>01/12/2011</td>\n",
       "      <td>1042013</td>\n",
       "      <td>0.5</td>\n",
       "      <td>RENT</td>\n",
       "      <td>1</td>\n",
       "      <td>Low</td>\n",
       "      <td>30000</td>\n",
       "      <td>1</td>\n",
       "      <td>...</td>\n",
       "      <td>1</td>\n",
       "      <td>15.27</td>\n",
       "      <td>C</td>\n",
       "      <td>3</td>\n",
       "      <td>1.00</td>\n",
       "      <td>1008.710000</td>\n",
       "      <td>456.46</td>\n",
       "      <td>117.08</td>\n",
       "      <td>59.83</td>\n",
       "      <td>leinster</td>\n",
       "    </tr>\n",
       "    <tr>\n",
       "      <th>2</th>\n",
       "      <td>1077175</td>\n",
       "      <td>2011</td>\n",
       "      <td>01/12/2011</td>\n",
       "      <td>1062014</td>\n",
       "      <td>10.0</td>\n",
       "      <td>RENT</td>\n",
       "      <td>1</td>\n",
       "      <td>Low</td>\n",
       "      <td>12252</td>\n",
       "      <td>1</td>\n",
       "      <td>...</td>\n",
       "      <td>0</td>\n",
       "      <td>15.96</td>\n",
       "      <td>C</td>\n",
       "      <td>3</td>\n",
       "      <td>8.72</td>\n",
       "      <td>3003.653644</td>\n",
       "      <td>2400.00</td>\n",
       "      <td>0.00</td>\n",
       "      <td>84.33</td>\n",
       "      <td>cannught</td>\n",
       "    </tr>\n",
       "    <tr>\n",
       "      <th>3</th>\n",
       "      <td>1076863</td>\n",
       "      <td>2011</td>\n",
       "      <td>01/12/2011</td>\n",
       "      <td>1012015</td>\n",
       "      <td>10.0</td>\n",
       "      <td>RENT</td>\n",
       "      <td>1</td>\n",
       "      <td>Low</td>\n",
       "      <td>49200</td>\n",
       "      <td>1</td>\n",
       "      <td>...</td>\n",
       "      <td>0</td>\n",
       "      <td>13.49</td>\n",
       "      <td>C</td>\n",
       "      <td>3</td>\n",
       "      <td>20.00</td>\n",
       "      <td>12226.302210</td>\n",
       "      <td>10000.00</td>\n",
       "      <td>0.00</td>\n",
       "      <td>339.31</td>\n",
       "      <td>ulster</td>\n",
       "    </tr>\n",
       "    <tr>\n",
       "      <th>4</th>\n",
       "      <td>1075358</td>\n",
       "      <td>2011</td>\n",
       "      <td>01/12/2011</td>\n",
       "      <td>1012016</td>\n",
       "      <td>1.0</td>\n",
       "      <td>RENT</td>\n",
       "      <td>1</td>\n",
       "      <td>Low</td>\n",
       "      <td>80000</td>\n",
       "      <td>1</td>\n",
       "      <td>...</td>\n",
       "      <td>0</td>\n",
       "      <td>12.69</td>\n",
       "      <td>B</td>\n",
       "      <td>2</td>\n",
       "      <td>17.94</td>\n",
       "      <td>3242.170000</td>\n",
       "      <td>2233.10</td>\n",
       "      <td>0.00</td>\n",
       "      <td>67.79</td>\n",
       "      <td>ulster</td>\n",
       "    </tr>\n",
       "  </tbody>\n",
       "</table>\n",
       "<p>5 rows × 30 columns</p>\n",
       "</div>"
      ],
      "text/plain": [
       "        id  year     issue_d  final_d  emp_length_int home_ownership  \\\n",
       "0  1077501  2011  01/12/2011  1012015            10.0           RENT   \n",
       "1  1077430  2011  01/12/2011  1042013             0.5           RENT   \n",
       "2  1077175  2011  01/12/2011  1062014            10.0           RENT   \n",
       "3  1076863  2011  01/12/2011  1012015            10.0           RENT   \n",
       "4  1075358  2011  01/12/2011  1012016             1.0           RENT   \n",
       "\n",
       "   home_ownership_cat income_category  annual_inc  income_cat  ...  \\\n",
       "0                   1             Low       24000           1  ...   \n",
       "1                   1             Low       30000           1  ...   \n",
       "2                   1             Low       12252           1  ...   \n",
       "3                   1             Low       49200           1  ...   \n",
       "4                   1             Low       80000           1  ...   \n",
       "\n",
       "   loan_condition_cat interest_rate  grade grade_cat    dti   total_pymnt  \\\n",
       "0                   0         10.65      B         2  27.65   5861.071414   \n",
       "1                   1         15.27      C         3   1.00   1008.710000   \n",
       "2                   0         15.96      C         3   8.72   3003.653644   \n",
       "3                   0         13.49      C         3  20.00  12226.302210   \n",
       "4                   0         12.69      B         2  17.94   3242.170000   \n",
       "\n",
       "   total_rec_prncp recoveries  installment    region  \n",
       "0          5000.00       0.00       162.87   munster  \n",
       "1           456.46     117.08        59.83  leinster  \n",
       "2          2400.00       0.00        84.33  cannught  \n",
       "3         10000.00       0.00       339.31    ulster  \n",
       "4          2233.10       0.00        67.79    ulster  \n",
       "\n",
       "[5 rows x 30 columns]"
      ]
     },
     "execution_count": 20,
     "metadata": {},
     "output_type": "execute_result"
    }
   ],
   "source": [
    "loan = pd.read_csv(\"data_input/data.csv\")\n",
    "loan.head()"
   ]
  },
  {
   "cell_type": "code",
   "execution_count": null,
   "metadata": {},
   "outputs": [],
   "source": [
    "len(loan)"
   ]
  },
  {
   "cell_type": "markdown",
   "metadata": {},
   "source": [
    "In the code above, we used `.read_csv()` to read a csv file from a specified path. Notice that we set `index_col=0` so the first column in the csv is used as the index. By default, this function treats the first row as the header row. We can add `header=None` to the function call telling `pandas` to read in a CSV without headers.\n",
    "\n",
    "You may find it curious that we use `0` to reference the first element of an axis; This is because Python uses 0-based indexing, a behavior that is different from other languages such as R and Matlab."
   ]
  },
  {
   "cell_type": "markdown",
   "metadata": {},
   "source": [
    "#### Knowledge Check: Error"
   ]
  },
  {
   "cell_type": "markdown",
   "metadata": {},
   "source": [
    "Referring to the previous **Python keywords** concept. Which of the following 4 lines of code will evaluate without raising an error?\n",
    "\n",
    "- [ ] `pd.read_csv(\"data_input/data.csv\", index_col=false)`\n",
    "- [ ] `Import pandas as pd`\n",
    "- [ ] `print(100-2)`\n",
    "- [ ] `None = 2`"
   ]
  },
  {
   "cell_type": "code",
   "execution_count": null,
   "metadata": {},
   "outputs": [],
   "source": [
    "## Your code below\n",
    "\n",
    "\n",
    "## -- Solution code"
   ]
  },
  {
   "cell_type": "markdown",
   "metadata": {},
   "source": [
    "## Data Types"
   ]
  },
  {
   "cell_type": "markdown",
   "metadata": {},
   "source": [
    "`pandas` allow data analysts to create Series objects and DataFrame objects. Series is used to represent a one-dimensional array whereas DataFrame emulates the functionality of \"Data Frames\" in R and is useful for tabular data. \n",
    "\n",
    "In practice, a large proportion of our data is tabular: when we import data from a relational database (MySQL, Postgre) or from a spreadsheet software (Google Sheets, Microsoft Excel) we can represent these data as a DataFrame object."
   ]
  },
  {
   "cell_type": "markdown",
   "metadata": {},
   "source": [
    "When we call `pd.read_csv()` earlier, `pandas` will try to infer data types from the values in each column. Sometimes, it get it right but more often that not, a data analyst's intervention is required. In the following sub-section, we'll learn about various techniques an analyst have at his/her disposal when it comes to the treatment of pandas data types."
   ]
  },
  {
   "cell_type": "code",
   "execution_count": null,
   "metadata": {
    "scrolled": true
   },
   "outputs": [],
   "source": [
    "print(loan.dtypes)"
   ]
  },
  {
   "cell_type": "markdown",
   "metadata": {},
   "source": [
    "`dtypes` simply stands for \"data types\". Because `loan` is a `pandas` object, accessing the `dtypes` attribute will return a series with the data type of each column. \n",
    "\n",
    "----\n",
    "#### Knowledge check: `.dtypes` and pandas attributes\n",
    "Look at the following code - what is the expected output from the following code? Why?\n",
    "```\n",
    "x = [2019, 4, 'data science']\n",
    "x.dtypes\n",
    "```\n",
    "\n",
    "Hint: Try `type(x)` and verify the type for object `x`."
   ]
  },
  {
   "cell_type": "code",
   "execution_count": null,
   "metadata": {},
   "outputs": [],
   "source": [
    "## Your code below\n",
    "\n",
    "\n",
    "## -- Solution code"
   ]
  },
  {
   "cell_type": "markdown",
   "metadata": {},
   "source": [
    "Let's take a look at some examples of `DataFrame.dtypes`:"
   ]
  },
  {
   "cell_type": "code",
   "execution_count": null,
   "metadata": {},
   "outputs": [],
   "source": [
    "employees = pd.DataFrame({\n",
    "    'name': ['Anita', 'Brian'],\n",
    "    'age': [34, 29],\n",
    "    'joined': [pd.Timestamp('20190410'), pd.Timestamp('20171128')],\n",
    "    'degree': [True, False],\n",
    "    'hourlyrate': [35.5, 29],\n",
    "    'division': ['HR', 'Product']\n",
    "})\n",
    "employees.dtypes"
   ]
  },
  {
   "cell_type": "code",
   "execution_count": null,
   "metadata": {
    "scrolled": true
   },
   "outputs": [],
   "source": [
    "employees"
   ]
  },
  {
   "cell_type": "markdown",
   "metadata": {},
   "source": [
    "Let's go through the columns and their data types from the above `DataFrame`:\n",
    "\n",
    "- `name` [`object`]: store text values\n",
    "- `age` [`int`]: integer values\n",
    "- `joined` [`datetime`]: date and time values\n",
    "- `degree` [`bool`]: True/False values\n",
    "- `hourlyrate` [`float`]: floating point values\n",
    "- `division` [`object`]: store text values\n",
    "\n",
    "Among these columns, only `age` and `hourlyrate` are columns with numeric values. This is a simple, but important, observation to make as we make our way into the Exploratory Data Analysis phase. But before we do, let's do one more exercise. Take a closer look at the Data Frame we just created again.\n",
    "\n",
    "Out of the 6 columns, one of them is of special interest to our next discussion, **categorical values**."
   ]
  },
  {
   "cell_type": "markdown",
   "metadata": {},
   "source": [
    "### Categorical and Numerical Variables\n",
    "\n",
    "\n",
    "When working with categories, it is recommended both from a business point of a view and a technical one to use `pandas` categorical data type. From a business perspective, this adds clarity to the analyst's mind about the type of data he/she is working with. This informs and guides the analysis, on questions such as which statistical methods or plot types to use.\n",
    "\n",
    "From a technical viewpoint, the memory savings -- and in turn, computation speed as well as computational resources -- can be quite significant. Specifically, the docs remarked:\n",
    "\n",
    "> The memory usage of a `Categorical` is proportional to the number of categories plus the length of the data. In contrast, an `object` dtype is a constant times the length of the data\n",
    "\n",
    "One more important remakrs from the docs:\n",
    "\n",
    "> Categoricals are a pandas data type corresponding to categorical variables in statistics. A categorical variable takes on a limited, and usually fixed, number of possible values (categories; levels in R). Examples are gender, social class, blood type, country affiliation or rating via Likert scales.\n",
    "\n",
    "Can you spot which of our column holds values that should be encoded in the `category` data type? Once you've spotted it, use the `astype('category')` method to perform the conversion. Remember to re-assign this new column so the original column (`object`) type is overwritten with the new `category` type column.\n",
    "\n",
    "Examples:\n",
    "\n",
    "```py\n",
    "# convert marital_status to category\n",
    "employees['marital_status'] = employees['marital_status'].astype('category')\n",
    "\n",
    "# convert experience to integer\n",
    "employees['experience'] = employees['experience'].astype('int')\n",
    "```"
   ]
  },
  {
   "cell_type": "code",
   "execution_count": null,
   "metadata": {},
   "outputs": [],
   "source": [
    "## Your code below\n",
    "\n",
    "\n",
    "## -- Solution code"
   ]
  },
  {
   "cell_type": "markdown",
   "metadata": {},
   "source": [
    "Use `employees.dtypes` to confirm that you've done the exercise above correctly:"
   ]
  },
  {
   "cell_type": "code",
   "execution_count": null,
   "metadata": {},
   "outputs": [],
   "source": [
    "## Your code below\n",
    "\n",
    "\n",
    "## -- Solution code"
   ]
  },
  {
   "cell_type": "markdown",
   "metadata": {},
   "source": [
    "In most real-world projects, your work as a data analyst will involve working with **categorical**, **numeric** and **datetime** values; either treating them as \"features\" or \"target\". In the case of machine learning:\n",
    "\n",
    "- A **categorical** target represents a classification problem\n",
    "- A **numeric** target represents a regression problem"
   ]
  },
  {
   "cell_type": "markdown",
   "metadata": {},
   "source": [
    "## Exploratory Data Analysis Tools\n",
    "\n",
    "In simple words, exploratory data analysis (EDA) refers to the process of performing initial investigations on data, often with the objective of becoming familiar with certain characteristics of the data. This is usually done with the aid of summary statistics and simple graphical techniques that purposefully uncover the structure of our data.\n",
    "\n",
    "We'll start off by using some of the most convenient EDA tools conveniently built into `pandas`. Particularly, this is a summary of what we'll cover in common EDA workflows:\n",
    "\n",
    "- `.head()` and `.tail()`\n",
    "- `.describe()`\n",
    "- `.shape` and `.size`\n",
    "- `.axes`\n",
    "- `.dtypes`"
   ]
  },
  {
   "cell_type": "code",
   "execution_count": null,
   "metadata": {},
   "outputs": [],
   "source": [
    "employees.describe()"
   ]
  },
  {
   "cell_type": "markdown",
   "metadata": {},
   "source": [
    "The `.describe()` method will generate descriptive statistics of our data, and by default include all numeric columns in our DataFrame. It lists 8 statistical properties of each attribute, for example on numerical values:\n",
    "- Count\n",
    "- Mean\n",
    "- Standard Deviation\n",
    "- Minimum Value\n",
    "- 25th Percentile (Q1)\n",
    "- 50th Percentile (Q2/Median)\n",
    "- 75th Percentile (Q3)\n",
    "- Maximum Value\n",
    "\n",
    "The `describe()` method will generate descriptive statistics of our data, and by default include all numeric columns in our DataFrame. The code above calls `.describe()` on `employees`, from which there are two numeric columns. This method is an \"instruction\" to perform something (functions) associated with the object. We've seen earlier how to use `.head()` and `.tail()` on our DataFrame: these are also method calls!\n",
    "\n",
    "We can add an `include` parameter in the `.describe()` method call, which takes a list-like of dtypes to be included or `all` for all columns of the dataframe.\n",
    "\n",
    "Add a new cell below, calling `describe()` but only on columns of `object` and `datetime` types (`['object', 'datetime']`)."
   ]
  },
  {
   "cell_type": "code",
   "execution_count": null,
   "metadata": {},
   "outputs": [],
   "source": [
    "## Your code below\n",
    "\n",
    "\n",
    "## -- Solution code"
   ]
  },
  {
   "cell_type": "markdown",
   "metadata": {},
   "source": [
    "Very often, we also want to know the shape of our data - i.e. how many rows and columns are there in our DataFrame? \n",
    "\n",
    "Our DataFrame has attributes that we can use to answer those questions. An attribute is a value stored within an object that describe an aspect of the object's characteristic. In the following call, we are asking for the `.shape` and the `.size` attribute of our `loan` DataFrame.\n",
    "\n",
    "_Tip:_\n",
    "Unlike `describe()`, which is a method call; `shape` and `size` are **attributes** of our DataFrame - that means no function is evaluated; Only a value stored in the object's instance is looked up and returned."
   ]
  },
  {
   "cell_type": "code",
   "execution_count": null,
   "metadata": {},
   "outputs": [],
   "source": [
    "print(loan.shape)\n",
    "print(loan.size)"
   ]
  },
  {
   "cell_type": "markdown",
   "metadata": {},
   "source": [
    "`size` returns the number of elements in the `loan` DataFrame. Because we have 12,000 rows and 10 columns, the total number of elements would be a total of 120,000. \n",
    "\n",
    "Use `.shape` on the `employees` DataFrame. From the resulting output, could you tell what would be the result of calling `employees.size`?"
   ]
  },
  {
   "cell_type": "code",
   "execution_count": null,
   "metadata": {},
   "outputs": [],
   "source": [
    "## Your code below\n",
    "\n",
    "\n",
    "## -- Solution code"
   ]
  },
  {
   "cell_type": "markdown",
   "metadata": {},
   "source": [
    "One other attribute that is often useful is `.axes`, which return a list representing the axes of our DataFrame. Most likely, this would be a list of length 2, one for the row axis and one for the column axis, in that particular order.\n",
    "\n",
    "Because it is ordered that way, calling `.axes[0]` would return the first item of that list, which would be the row axis (or row names if present) and calling `.axes[1]` would return the column axis, which would be equivalent to calling `loan.columns`:"
   ]
  },
  {
   "cell_type": "code",
   "execution_count": null,
   "metadata": {},
   "outputs": [],
   "source": [
    "loan.axes[1]"
   ]
  },
  {
   "cell_type": "markdown",
   "metadata": {},
   "source": [
    "We've covered `.dtypes` in earlier sections, so go ahead and practice inspecting the data types of `loan` DataFrame. Are the columns in the right data types? If they are not, formulate a mental checklist of type conversion you need to perform."
   ]
  },
  {
   "cell_type": "code",
   "execution_count": null,
   "metadata": {
    "scrolled": true
   },
   "outputs": [],
   "source": [
    "loan.dtypes"
   ]
  },
  {
   "cell_type": "code",
   "execution_count": null,
   "metadata": {
    "scrolled": true
   },
   "outputs": [],
   "source": [
    "loan.head()"
   ]
  },
  {
   "cell_type": "code",
   "execution_count": null,
   "metadata": {},
   "outputs": [],
   "source": [
    "# check unique value of columns in dataframe\n",
    "loan['income_category'].unique()"
   ]
  },
  {
   "cell_type": "markdown",
   "metadata": {},
   "source": [
    "We can convert `issue_d` to a `datetime` type, and perform the conversion for the categorical columns as well:"
   ]
  },
  {
   "cell_type": "code",
   "execution_count": null,
   "metadata": {
    "scrolled": true
   },
   "outputs": [],
   "source": [
    "loan['issue_d'] = loan['issue_d'].astype('datetime64')\n",
    "loan[['income_category', 'home_ownership', 'region']] = loan[['income_category', 'home_ownership', 'region']].astype('category')\n",
    "loan.dtypes"
   ]
  },
  {
   "cell_type": "markdown",
   "metadata": {},
   "source": [
    "#### Knowledge Check: Data types\n",
    "\n",
    "Supposed we have a pandas DataFrame named `inventory`. \n",
    "\n",
    "1. We called `inventory.dtypes` and got the following output. Which of the column likely require type conversion because it seems to have the wrong data type? Choose all that apply.\n",
    "\n",
    "    - [ ] `units_instock`: int64\n",
    "    - [ ] `discount_price`: float64\n",
    "    - [ ] `item_name`: object\n",
    "    - [ ] `units_sold`: object\n",
    "    \n",
    "\n",
    "2. We would like to know the number of columns in `inventory`. Which of the following code would print the number of columns in `inventory`? Choose all that apply.\n",
    "\n",
    "    - [ ] `print(len(inventory.columns))`\n",
    "    - [ ] `print(inventory.shape[1])`\n",
    "    - [ ] `print(len(inventory.axes[1]))`\n"
   ]
  },
  {
   "cell_type": "markdown",
   "metadata": {},
   "source": [
    "## Indexing and Subsetting with Pandas"
   ]
  },
  {
   "cell_type": "markdown",
   "metadata": {},
   "source": [
    "Using indexing operators to select, summarize or transform only a subset of data is a critical part of any data analysis workflow. Consider the following use-cases:\n",
    "\n",
    "- Compare the sales in Year 2018 vs Year 2019  \n",
    "- Identify missed opportunities in a specific market segment (e.g. Retail vs Wholesale)\n",
    "- Best quarter of the year to execute cross-selling promos / discounts\n",
    "- Study profitability of goods in the higher price range (e.g. IDR45000000+) and how competitors positioning affect sales in that price range\n",
    "\n",
    "Notice that in all of these use-cases, data analysts will want to use some combination of indexing and then perform the necessary computations on that specific slice or slices of data. Unsurprisingly, `pandas` come with a number of methods to help you accomplish this task.\n",
    "\n",
    "In the following section, we'll take a closer look at some of the most common slicing and subsetting operations in `pandas`:\n",
    "- `head()` and `tail()`  \n",
    "- The `[]` operator\n",
    "- `.loc`  \n",
    "- `.iloc`\n",
    "- Conditional subsetting"
   ]
  },
  {
   "cell_type": "markdown",
   "metadata": {},
   "source": [
    "Rather commonly, you may want to perform subsetting by slicing out a set of rows. This can be done using the `loan[start:end]` syntax, where `start` is inclusive.\n",
    "\n",
    "The code follows slices out the first to fourth row, or equivalently, row with the index 0, 1, 2, and 3. "
   ]
  },
  {
   "cell_type": "code",
   "execution_count": null,
   "metadata": {},
   "outputs": [],
   "source": [
    "loan[0:4]"
   ]
  },
  {
   "cell_type": "markdown",
   "metadata": {},
   "source": [
    "#### Knowledge Check: Slicing\n",
    "\n",
    "Recalling that the `end` is not inclusive and Python's 0-based indexing behavior, if we have wanted to subset the **8th to 12th** row of our data, how would we have done it instead? Pick the right answer and try it in a new code cell below.\n",
    "\n",
    "- [ ] `loan[7:12]`\n",
    "- [ ] `loan[8:12]`\n",
    "- [ ] `loan[7:13]`\n",
    "- [ ] `loan[8:13]`"
   ]
  },
  {
   "cell_type": "markdown",
   "metadata": {},
   "source": [
    "Using `.loc` and `.iloc`, we can perform slicing on both the row and column indices, offering us even greater flexibility and control over our subsetting operations.\n",
    "\n",
    "`.iloc` requires us to pass an `integer` to either the row or/and column. We can also use `:` to indicate no subsetting in a certain direction. The following code slices out the first 5 rows but take all columns (pay attention to the use of the `:` operator): "
   ]
  },
  {
   "cell_type": "code",
   "execution_count": null,
   "metadata": {
    "scrolled": true
   },
   "outputs": [],
   "source": [
    "loan.iloc[0:5, :]"
   ]
  },
  {
   "cell_type": "markdown",
   "metadata": {},
   "source": [
    "Putting together what you've learned so far, use `.iloc` to subset the **last 2 rows of our dataframe**, and the **first 4 columns**. If you perform this exercise correctly, the output `x` should be a `pandas` dataframe (`type(x)` is a pandas `DataFrame` object)\n",
    "\n",
    "Bonus: If you want an extra challenge, try and perform this operation three times; \n",
    "1. Use only `.iloc[ , ]`\n",
    "2. Use `tail(2)` to get the last 2 rows then chain it with `.iloc`  \n",
    "3. Use `loan.shape[0]-2:` to get the last 2 rows in your `.iloc` operation"
   ]
  },
  {
   "cell_type": "code",
   "execution_count": null,
   "metadata": {},
   "outputs": [],
   "source": [
    "## Your code below\n",
    "\n",
    "\n",
    "## -- Solution code"
   ]
  },
  {
   "cell_type": "markdown",
   "metadata": {},
   "source": [
    "`.loc`, in contrast to `.iloc` does not subset based on _integer_ but rather subset based on `label`. We can still use `integer` but our integers will be treated or interpreted as _labels_.\n",
    "\n",
    "Let's read in the same `csv`, except this time we will set `id` as the row labels:"
   ]
  },
  {
   "cell_type": "code",
   "execution_count": null,
   "metadata": {
    "scrolled": false
   },
   "outputs": [],
   "source": [
    "loan = pd.read_csv('data_input/data.csv', index_col=0)\n",
    "loan.head()"
   ]
  },
  {
   "cell_type": "markdown",
   "metadata": {},
   "source": [
    "To subset for the row of loan corresponding to id 1077501 and 1076863, we can use label-based indexing (`.loc`) as such:"
   ]
  },
  {
   "cell_type": "code",
   "execution_count": null,
   "metadata": {},
   "outputs": [],
   "source": [
    "loan.loc[[1077501, 1076863], :]"
   ]
  },
  {
   "cell_type": "markdown",
   "metadata": {},
   "source": [
    "### Conditional Subsetting\n",
    "\n",
    "Along with `.iloc` and `.loc`, probably the most helpful type of subsetting would have to be conditional subsetting.\n",
    "\n",
    "With conditional subsetting, we select data based on criteria we specified:\n",
    "- `loan['home_ownership'] == 'RENT'` to create a condition of all loan with RENT home ownership  \n",
    "- `loan['annual_inc'] >= 30000` to create a condition of loan with annual income greater than 30000 \n",
    "- `loan['region'] != 'munster'` to get \"non-munster\" loan data\n",
    "\n",
    "The basic formula of conditional subsetting: \\\n",
    "`dataframe[condition]` \\\n",
    "example : `loan[loan['annual_inc'] >= 30000]`\n",
    "\n",
    "\n",
    "We can also use the `&` and `|` operators to join conditions:\n",
    "\n",
    "`sales[(sales.salesperson == 'Moana') & (sales.amount > 5000)]` subset any rows where Moana has sold more than $5000 worth of items"
   ]
  },
  {
   "cell_type": "code",
   "execution_count": null,
   "metadata": {},
   "outputs": [],
   "source": [
    "# code here\n"
   ]
  },
  {
   "cell_type": "markdown",
   "metadata": {},
   "source": [
    "### Case\n",
    "Our supervisor came and ask for a total number of specific data:\n",
    "- ulster region\n",
    "- greater than 1,500,000 annual income \n",
    "\n",
    "How would you get the number of data?\n"
   ]
  },
  {
   "cell_type": "code",
   "execution_count": null,
   "metadata": {},
   "outputs": [],
   "source": [
    "# code here\n"
   ]
  }
 ],
 "metadata": {
  "kernelspec": {
   "display_name": "dbs_python",
   "language": "python",
   "name": "dbs_python"
  },
  "language_info": {
   "codemirror_mode": {
    "name": "ipython",
    "version": 3
   },
   "file_extension": ".py",
   "mimetype": "text/x-python",
   "name": "python",
   "nbconvert_exporter": "python",
   "pygments_lexer": "ipython3",
   "version": "3.10.9"
  }
 },
 "nbformat": 4,
 "nbformat_minor": 4
}
